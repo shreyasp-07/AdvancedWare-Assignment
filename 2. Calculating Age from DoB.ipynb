{
 "cells": [
  {
   "cell_type": "code",
   "execution_count": 1,
   "id": "99c9bc24",
   "metadata": {},
   "outputs": [],
   "source": [
    "import csv\n",
    "from datetime import datetime"
   ]
  },
  {
   "cell_type": "code",
   "execution_count": 2,
   "id": "0048bd91",
   "metadata": {},
   "outputs": [
    {
     "name": "stdout",
     "output_type": "stream",
     "text": [
      "User ID: 4893, Age: 53\n",
      "User ID: 3277, Age: 20\n",
      "User ID: 3318, Age: 44\n",
      "User ID: 753, Age: 53\n",
      "User ID: 5889, Age: 32\n",
      "User ID: 5242, Age: 61\n",
      "User ID: 2684, Age: 62\n",
      "User ID: 2707, Age: 38\n",
      "User ID: 2042, Age: 42\n",
      "User ID: 1491, Age: 20\n"
     ]
    }
   ],
   "source": [
    "def calculate_age(date_of_birth):\n",
    "    dob = datetime.strptime(date_of_birth, '%Y-%m-%d')\n",
    "    today = datetime.today()\n",
    "    age = today.year - dob.year\n",
    "    if today.month < dob.month or (today.month == dob.month and today.day < dob.day):\n",
    "        age -= 1\n",
    "    return age\n",
    "\n",
    "def read_users_csv():\n",
    "    with open('users.csv', 'r') as file:\n",
    "        reader = csv.reader(file)\n",
    "        for row in reader:\n",
    "            user_id, first_name, last_name, username, email, avatar, gender, date_of_birth, *extra_values = row\n",
    "            age = calculate_age(date_of_birth)\n",
    "            print(f\"User ID: {user_id}, Age: {age}\")\n",
    "\n",
    "# Usage: Read \"users.csv\" and calculate age for each user\n",
    "read_users_csv()"
   ]
  },
  {
   "cell_type": "code",
   "execution_count": null,
   "id": "644ac8a1",
   "metadata": {},
   "outputs": [],
   "source": []
  }
 ],
 "metadata": {
  "kernelspec": {
   "display_name": "Python 3 (ipykernel)",
   "language": "python",
   "name": "python3"
  },
  "language_info": {
   "codemirror_mode": {
    "name": "ipython",
    "version": 3
   },
   "file_extension": ".py",
   "mimetype": "text/x-python",
   "name": "python",
   "nbconvert_exporter": "python",
   "pygments_lexer": "ipython3",
   "version": "3.10.9"
  }
 },
 "nbformat": 4,
 "nbformat_minor": 5
}
