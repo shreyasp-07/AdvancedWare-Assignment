{
 "cells": [
  {
   "cell_type": "code",
   "execution_count": 1,
   "id": "35eb3950",
   "metadata": {},
   "outputs": [
    {
     "name": "stdout",
     "output_type": "stream",
     "text": [
      "Enter the ID or username of a user: 2684\n",
      "User Details:\n",
      "ID: 2684\n",
      "First Name: Maryjane\n",
      "Last Name: Rolfson\n",
      "Username: maryjane.rolfson\n",
      "Email: maryjane.rolfson@email.com\n",
      "Avatar: https://robohash.org/nequequiiste.png?size=300x300&set=set1\n",
      "Gender: Genderfluid\n",
      "Date of Birth: 1961-06-14\n"
     ]
    }
   ],
   "source": [
    "import csv\n",
    "\n",
    "def search_user_by_id_or_username(identifier):\n",
    "    with open('users.csv', 'r') as file:\n",
    "        reader = csv.reader(file)\n",
    "        for row in reader:\n",
    "            user_id, first_name, last_name, username, email, avatar, gender, date_of_birth, *extra_values = row\n",
    "            if user_id == identifier or first_name == identifier or last_name == identifier:\n",
    "                return {\n",
    "                    'id': user_id,\n",
    "                    'first_name': first_name,\n",
    "                    'last_name': last_name,\n",
    "                    'username': username,\n",
    "                    'email': email,\n",
    "                    'avatar': avatar,\n",
    "                    'gender': gender,\n",
    "                    'date_of_birth': date_of_birth\n",
    "                }\n",
    "        return None\n",
    "\n",
    "# Usage: Input the ID or username of a user to get their details\n",
    "identifier = input(\"Enter the ID or username of a user: \")\n",
    "user_details = search_user_by_id_or_username(identifier)\n",
    "if user_details:\n",
    "    print(\"User Details:\")\n",
    "    print(f\"ID: {user_details['id']}\")\n",
    "    print(f\"First Name: {user_details['first_name']}\")\n",
    "    print(f\"Last Name: {user_details['last_name']}\")\n",
    "    print(f\"Username: {user_details['username']}\")\n",
    "    print(f\"Email: {user_details['email']}\")\n",
    "    print(f\"Avatar: {user_details['avatar']}\")\n",
    "    print(f\"Gender: {user_details['gender']}\")\n",
    "    print(f\"Date of Birth: {user_details['date_of_birth']}\")\n",
    "else:\n",
    "    print(\"User not found.\")"
   ]
  },
  {
   "cell_type": "code",
   "execution_count": null,
   "id": "f397bc6c",
   "metadata": {},
   "outputs": [],
   "source": []
  }
 ],
 "metadata": {
  "kernelspec": {
   "display_name": "Python 3 (ipykernel)",
   "language": "python",
   "name": "python3"
  },
  "language_info": {
   "codemirror_mode": {
    "name": "ipython",
    "version": 3
   },
   "file_extension": ".py",
   "mimetype": "text/x-python",
   "name": "python",
   "nbconvert_exporter": "python",
   "pygments_lexer": "ipython3",
   "version": "3.10.9"
  }
 },
 "nbformat": 4,
 "nbformat_minor": 5
}
